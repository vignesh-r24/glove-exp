{
 "cells": [
  {
   "cell_type": "code",
   "execution_count": 85,
   "metadata": {},
   "outputs": [],
   "source": [
    "import numpy as np"
   ]
  },
  {
   "cell_type": "code",
   "execution_count": 86,
   "metadata": {},
   "outputs": [],
   "source": [
    "word_embeddings = dict()"
   ]
  },
  {
   "cell_type": "code",
   "execution_count": 147,
   "metadata": {},
   "outputs": [],
   "source": [
    "def read_word_embeddings(data_file):\n",
    "    word_emb = dict()\n",
    "    with open(data_file, 'r') as f:\n",
    "        for line in f:\n",
    "            values = line.split()\n",
    "            word = values[0]\n",
    "            emb = np.array(values[1:], dtype='float32')\n",
    "            word_emb[word] = emb\n",
    "    return word_emb\n",
    "\n",
    "def closest_word(emb):\n",
    "    return sorted(word_embeddings.keys(), key = lambda word: np.linalg.norm(word_embeddings[word] - emb))\n",
    "\n",
    "def closest_word_exclude(emb, exclude_words):\n",
    "    # find closest words, excluding the words provided in the exclude list\n",
    "    closest_words = sorted(word_embeddings.keys(), key = lambda word: np.linalg.norm(word_embeddings[word] - emb))\n",
    "    closest_words = [word for word in closest_words if word not in exclude_words]\n",
    "    return closest_words"
   ]
  },
  {
   "cell_type": "code",
   "execution_count": 132,
   "metadata": {},
   "outputs": [],
   "source": [
    "data_file = './data/glove.6B/glove.6B.50d.txt'\n",
    "word_embeddings = read_word_embeddings(data_file)"
   ]
  },
  {
   "cell_type": "code",
   "execution_count": 133,
   "metadata": {},
   "outputs": [
    {
     "data": {
      "text/plain": [
       "['mac', 'android', 'linux']"
      ]
     },
     "execution_count": 133,
     "metadata": {},
     "output_type": "execute_result"
    }
   ],
   "source": [
    "closest_word(word_embeddings[\"os\"])[1:4]"
   ]
  },
  {
   "cell_type": "code",
   "execution_count": 139,
   "metadata": {},
   "outputs": [
    {
     "data": {
      "text/plain": [
       "['symbian', 'mutantes', 'ios']"
      ]
     },
     "execution_count": 139,
     "metadata": {},
     "output_type": "execute_result"
    }
   ],
   "source": [
    "closest_word_exclude(word_embeddings[\"os\"] - word_embeddings[\"computer\"] + word_embeddings[\"mobile\"], ['os'])[:3]"
   ]
  },
  {
   "cell_type": "code",
   "execution_count": 153,
   "metadata": {},
   "outputs": [
    {
     "data": {
      "text/plain": [
       "['browser', 'software', 'netscape']"
      ]
     },
     "execution_count": 153,
     "metadata": {},
     "output_type": "execute_result"
    }
   ],
   "source": [
    "closest_word_exclude(word_embeddings[\"os\"] + word_embeddings[\"google\"], ['os', 'google'])[:3]"
   ]
  }
 ],
 "metadata": {
  "kernelspec": {
   "display_name": "Python 3",
   "language": "python",
   "name": "python3"
  },
  "language_info": {
   "codemirror_mode": {
    "name": "ipython",
    "version": 3
   },
   "file_extension": ".py",
   "mimetype": "text/x-python",
   "name": "python",
   "nbconvert_exporter": "python",
   "pygments_lexer": "ipython3",
   "version": "3.7.0"
  }
 },
 "nbformat": 4,
 "nbformat_minor": 4
}
