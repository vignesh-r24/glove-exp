{
 "cells": [
  {
   "cell_type": "code",
   "execution_count": null,
   "metadata": {},
   "outputs": [],
   "source": [
    "import numpy as np"
   ]
  },
  {
   "cell_type": "code",
   "execution_count": null,
   "metadata": {},
   "outputs": [],
   "source": [
    "word_embeddings = dict()"
   ]
  },
  {
   "cell_type": "code",
   "execution_count": null,
   "metadata": {},
   "outputs": [],
   "source": [
    "def read_word_embeddings(data_file):\n",
    "    word_emb = dict()\n",
    "    with open(data_file, 'r') as f:\n",
    "        for line in f:\n",
    "            values = line.split()\n",
    "            word = values[0]\n",
    "            emb = np.array(values[1:], dtype='float32')\n",
    "            word_emb[word] = emb\n",
    "    return word_emb\n",
    "\n",
    "def closest_word(emb):\n",
    "    return sorted(word_embeddings.keys(), key = lambda word: np.linalg.norm(word_embeddings[word] - emb))\n",
    "\n",
    "def closest_word_exclude(emb, exclude_words):\n",
    "    # find closest words, excluding the words provided in the exclude list\n",
    "    closest_words = sorted(word_embeddings.keys(), key = lambda word: np.linalg.norm(word_embeddings[word] - emb))\n",
    "    closest_words = [word for word in closest_words if word not in exclude_words]\n",
    "    return closest_words"
   ]
  },
  {
   "cell_type": "code",
   "execution_count": null,
   "metadata": {},
   "outputs": [],
   "source": [
    "data_file = './data/glove.6B/glove.6B.50d.txt'\n",
    "word_embeddings = read_word_embeddings(data_file)"
   ]
  },
  {
   "cell_type": "code",
   "execution_count": null,
   "metadata": {},
   "outputs": [
    {
     "data": {
      "text/plain": [
       "['mac', 'android', 'linux']"
      ]
     },
     "execution_count": null,
     "metadata": {},
     "output_type": "execute_result"
    }
   ],
   "source": [
    "closest_word(word_embeddings[\"os\"])[1:4]"
   ]
  },
  {
   "cell_type": "code",
   "execution_count": null,
   "metadata": {},
   "outputs": [
    {
     "data": {
      "text/plain": [
       "['symbian', 'mutantes', 'ios']"
      ]
     },
     "execution_count": null,
     "metadata": {},
     "output_type": "execute_result"
    }
   ],
   "source": [
    "closest_word_exclude(word_embeddings[\"os\"] - word_embeddings[\"computer\"] + word_embeddings[\"mobile\"], ['os'])[:3]"
   ]
  },
  {
   "cell_type": "code",
   "execution_count": null,
   "metadata": {},
   "outputs": [
    {
     "data": {
      "text/plain": [
       "['browser', 'software', 'netscape']"
      ]
     },
     "execution_count": null,
     "metadata": {},
     "output_type": "execute_result"
    }
   ],
   "source": [
    "closest_word_exclude(word_embeddings[\"os\"] + word_embeddings[\"google\"], ['os', 'google'])[:3]"
   ]
  },
  {
   "cell_type": "code",
   "execution_count": null,
   "metadata": {},
   "outputs": [
    {
     "data": {
      "text/plain": [
       "['japanese']"
      ]
     },
     "execution_count": null,
     "metadata": {},
     "output_type": "execute_result"
    }
   ],
   "source": [
    "closest_word(word_embeddings[\"german\"] - word_embeddings[\"germany\"] + word_embeddings[\"japan\"])[:1]"
   ]
  },
  {
   "cell_type": "code",
   "execution_count": null,
   "metadata": {},
   "outputs": [
    {
     "data": {
      "text/plain": [
       "['longest']"
      ]
     },
     "execution_count": null,
     "metadata": {},
     "output_type": "execute_result"
    }
   ],
   "source": [
    "closest_word(word_embeddings[\"tallest\"] - word_embeddings[\"tall\"] + word_embeddings[\"long\"])[:1]"
   ]
  },
  {
   "cell_type": "code",
   "execution_count": null,
   "metadata": {},
   "outputs": [],
   "source": []
  }
 ],
 "metadata": {
  "kernelspec": {
   "display_name": "Python 3",
   "language": "python",
   "name": "python3"
  },
  "language_info": {
   "codemirror_mode": {
    "name": "ipython",
    "version": 3
   },
   "file_extension": ".py",
   "mimetype": "text/x-python",
   "name": "python",
   "nbconvert_exporter": "python",
   "pygments_lexer": "ipython3",
   "version": "3.7.0"
  }
 },
 "nbformat": 4,
 "nbformat_minor": 4
}
